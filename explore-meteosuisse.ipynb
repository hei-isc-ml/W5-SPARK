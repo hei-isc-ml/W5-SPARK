{
 "cells": [
  {
   "cell_type": "code",
   "execution_count": null,
   "metadata": {},
   "outputs": [],
   "source": [
    "import s3fs\n",
    "import pyarrow as pa\n",
    "import pyarrow.dataset as ds\n",
    "\n",
    "import sys\n",
    "import os\n",
    "\n",
    "import pyspark\n",
    "from pyspark.sql import SparkSession\n",
    "from pyspark.sql import functions as F\n",
    "from pyspark.sql import Window\n",
    "\n",
    "import pandas as pd\n",
    "import polars as pl\n",
    "import altair as alt\n",
    "import matplotlib.pyplot as plt\n",
    "\n",
    "alt.data_transformers.disable_max_rows()\n",
    "\n",
    "print(\"Pandas version: \", pd.__version__)\n",
    "print(\"Pyarrow version: \", pa.__version__)\n",
    "print(\"Pyspark version: \", pyspark.__version__)\n",
    "print(\"Python version: \", sys.version)"
   ]
  },
  {
   "cell_type": "markdown",
   "metadata": {},
   "source": [
    "We also set up [black](https://github.com/psf/black), which is a highly encouraged best-practice for all your Python projects. That way, you never have to worry and debate about code formatting anymore. By using it, you agree to cede control over minutiae of hand-formatting. In return, Black gives you speed, determinism, and freedom from `pycodestyle` nagging about formatting. You will save time and mental energy for more important matters."
   ]
  },
  {
   "cell_type": "code",
   "execution_count": 3,
   "metadata": {},
   "outputs": [],
   "source": [
    "import jupyter_black\n",
    "\n",
    "jupyter_black.load()"
   ]
  },
  {
   "cell_type": "markdown",
   "metadata": {},
   "source": [
    "## Connecting to the Spark cluster using Spark Connect\n",
    "\n",
    "Here we connect to the cluster using Spark connect. You may access the [Spark Connect UI](http://vlenpmod302spk1.hevs.ch:4040/jobs/) to troubleshoot and monitor your jobs."
   ]
  },
  {
   "cell_type": "code",
   "execution_count": 4,
   "metadata": {},
   "outputs": [],
   "source": [
    "spark = SparkSession.builder.remote(\"sc://VLENPMOD302SPK1.hevs.ch:15002\").getOrCreate()"
   ]
  },
  {
   "cell_type": "markdown",
   "metadata": {},
   "source": [
    "## Loading the data \n",
    "\n",
    "We are first going to load the data available on the master node at `/home/data/meteosuisse.parquet`.\n",
    "\n",
    "The data have been written using the so-called [Hive Partioning strategy](https://duckdb.org/docs/data/partitioning/hive_partitioning.html#:~:text=Hive%20partitioning%20is%20a%20partitioning,the%20name%20of%20the%20folder.), that is used to split a table into multiple files based on partition keys. The files are organized into folders, whose name is determined by the partition key value:\n",
    "\n",
    "```\n",
    "meteosuisse\n",
    "├── year=2021\n",
    "│    ├── month=1\n",
    "│    │   ├── stn=ZER\n",
    "│    │   │   └── file0.parquet\n",
    "│    │   ├── stn=MLS\n",
    "│    │   │   └── file0.parquet\n",
    "│    │   └── ...\n",
    "│    └── month=2\n",
    "│    │   ├── stn=ZER\n",
    "│    │   │   └── file0.parquet\n",
    "│    │   └── ...\n",
    "└── year=2021\n",
    "     ├── month=11\n",
    "     │   ├── stn=ZER\n",
    "     │   │   └── file0.parquet\n",
    "     │   ├── stn=MLS\n",
    "     │   │   └── file0.parquet\n",
    "     │   └── ...\n",
    "     └── month=12\n",
    "         ├── stn=ZER\n",
    "         │   └── file0.parquet\n",
    "         └── ...\n",
    "```\n",
    "\n",
    "**Questions**:\n",
    "\n",
    "- What is the purpose of using a partitioning strategy such as the one used by Hive?\n",
    "- What is a lazy dataframe? Does this cell cause any data to be downloaded?"
   ]
  },
  {
   "cell_type": "code",
   "execution_count": 1,
   "metadata": {},
   "outputs": [],
   "source": [
    "# Load the data and display the schema"
   ]
  },
  {
   "cell_type": "markdown",
   "metadata": {},
   "source": [
    "# Our data\n",
    "\n",
    "Here is a description of the fields that you have above:\n",
    "\n",
    "| Paramètre | Unité  | Description                                           \n",
    "|-----------|--------|-------------------------------------------------------\n",
    "| `pva200h0`| hPa    | pression de vapeur à 2 m du sol; moyenne horaire      \n",
    "| `ods000h0`| W/m²   | rayonnement diffus; moyenne horaire\n",
    "| `gre000h0`| W/m²   | rayonnement global; moyenne horaire\n",
    "| `prestah0`| hPa    | pression atmosphérique à l'altitude du baromètre (QFE); moyenne horaire\n",
    "| `tre200hx`| °C     | température de l'air à 2 m du sol; maximum horaire\n",
    "| `tre200hn`| °C     | température de l'air à 2 m du sol; minimum horaire\n",
    "| `tre200h0`| °C     | température de l'air à 2 m du sol; moyenne horaire\n",
    "| `tre005hn`| °C     | température de l'air à 5 cm de l'herbe; minimum horaire\n",
    "| `tre005h0`| °C     | température de l'air à 5 cm de l'herbe; moyenne horaire\n",
    "| `hns000hs`| cm     | épaisseur de neige; valeur instantanée horaire\n",
    "| `rre150hx`| mm     | précipitations; sommation sur 10 minutes, maximum horaire\n",
    "| `rre150h0`| mm     | précipitations, somme horaire\n",
    "| `ure200h0`| %      | humidité de l'air relative à 2 m du sol; moyenne horaire\n",
    "| `htoauths`| cm     | hauteur de neige (mesurée automatiquement); valeur instantanée horaire\n",
    "| `hto000hs`| cm     | hauteur de neige; valeur instantanée horaire\n",
    "| `sre000h0`| min    | durée d'ensoleillement; somme horaire\n",
    "| `tde200hs`| °C     | point de rosée à 2 m du sol; valeur instantanée horaire\n",
    "| `dkl010h0`| °      | direction du vent; moyenne horaire\n",
    "| `tso010hs`| °C     | température du sol à -10 cm; valeur instantanée horaire\n",
    "| `tso020hs`| °C     | température du sol à -20 cm;  valeur instantanée horaire\n",
    "| `tso005hs`| °C     | température du sol à -5 cm;  valeur instantanée horaire\n",
    "| `oli000h0`| W/m²   | irradiation par onde longue; moyenne horaire\n",
    "\n"
   ]
  },
  {
   "cell_type": "markdown",
   "metadata": {},
   "source": [
    "## Extract high-level statistics\n",
    "\n",
    "Extract some high-level statistics from the dataset:\n",
    "\n",
    "- The number of weather stations, identified by the `stn` column.\n",
    "- The start and end timestamp of the dataset."
   ]
  },
  {
   "cell_type": "code",
   "execution_count": null,
   "metadata": {},
   "outputs": [],
   "source": [
    "# Write your code here"
   ]
  },
  {
   "cell_type": "markdown",
   "metadata": {},
   "source": [
    "Display how many data points we have for each station, in descending order of the number of data points.\n",
    "\n",
    "**Question**: what could be the reasons of the discrepancies here?"
   ]
  },
  {
   "cell_type": "code",
   "execution_count": null,
   "metadata": {},
   "outputs": [],
   "source": [
    "# Write your code here"
   ]
  },
  {
   "cell_type": "markdown",
   "metadata": {},
   "source": [
    "Show the starting and ending date of each station."
   ]
  },
  {
   "cell_type": "code",
   "execution_count": null,
   "metadata": {},
   "outputs": [],
   "source": [
    "# Write your code here"
   ]
  },
  {
   "cell_type": "markdown",
   "metadata": {},
   "source": [
    "- Compute the min, max and average time interval (in seconds) between successive data points for each station.\n",
    "- Filter those stations that are not regular and examine them more closely by plotting the points on a line."
   ]
  },
  {
   "cell_type": "code",
   "execution_count": null,
   "metadata": {},
   "outputs": [],
   "source": [
    "# Write your code here"
   ]
  },
  {
   "cell_type": "code",
   "execution_count": null,
   "metadata": {},
   "outputs": [],
   "source": [
    "# Write your code here"
   ]
  },
  {
   "cell_type": "markdown",
   "metadata": {},
   "source": [
    "# Analyzing data for Zermatt\n",
    "\n",
    "Here we will load the data for the Zermatt station (code `ZER`). Take a look at your system monitor and try to assess how much data is downloaded as you try the different columns below. \n",
    "\n",
    "## Instructions\n",
    "\n",
    "- Collect all data for Zermatt and ensure they are ordered by time.\n",
    "- Print the number of data points, the start and end date."
   ]
  },
  {
   "cell_type": "code",
   "execution_count": null,
   "metadata": {},
   "outputs": [],
   "source": [
    "# Write your code here"
   ]
  },
  {
   "cell_type": "markdown",
   "metadata": {},
   "source": [
    "# Plotting the data\n",
    "\n",
    "- Plot the air temperature 2m over ground in Zermatt for the past 5 years. Make sure it has a legend.\n",
    "- What pattern can you visually spot? "
   ]
  },
  {
   "cell_type": "code",
   "execution_count": null,
   "metadata": {},
   "outputs": [],
   "source": [
    "# Write your code here"
   ]
  },
  {
   "cell_type": "markdown",
   "metadata": {},
   "source": [
    "- Plot the same variable, between September 1, 2023 and September 15, 2023.\n",
    "- What patterns can you visually spot now?"
   ]
  },
  {
   "cell_type": "code",
   "execution_count": null,
   "metadata": {},
   "outputs": [],
   "source": [
    "# Write your code here"
   ]
  },
  {
   "cell_type": "markdown",
   "metadata": {},
   "source": [
    "### Identify trends\n",
    "\n",
    "- Perform a moving average of the monthly temperature over the entire Zermatt data (hint: look at `rowsBetween`).\n",
    "- Visualize the hourly temperature and the corresponding moving average during between September 1, 2023 and September 15, 2023. What is the trend you observe?\n",
    "- What can you deduce from this trend? Is that a climate- or weather-related pattern?"
   ]
  },
  {
   "cell_type": "code",
   "execution_count": null,
   "metadata": {},
   "outputs": [],
   "source": [
    "# Write your code here"
   ]
  },
  {
   "cell_type": "markdown",
   "metadata": {},
   "source": [
    "- Perform a yearly moving average over the entire Zermatt data and visualize it alongside the hourly temperatures across the entire time period.\n",
    "- What do you observe? Is that a climate- or weather-related pattern?\n",
    "- Can you spot any anomaly in this graph? Where does it come from?"
   ]
  },
  {
   "cell_type": "code",
   "execution_count": null,
   "metadata": {},
   "outputs": [],
   "source": [
    "# Write your code here"
   ]
  },
  {
   "cell_type": "markdown",
   "metadata": {},
   "source": [
    "Let's see if there is a significant difference between the period 2010-2013 and 2020-2023:\n",
    "\n",
    "- Extract two Pandas series from the data that correspond to the temperature samples in the two above periods.\n",
    "- Plot histograms and compare them visually.\n",
    "- What are the conclusions you may draw from these results?"
   ]
  },
  {
   "cell_type": "code",
   "execution_count": null,
   "metadata": {},
   "outputs": [],
   "source": [
    "# Write your code here"
   ]
  },
  {
   "cell_type": "markdown",
   "metadata": {},
   "source": [
    "Another approach to visualize these data is as follows:\n",
    "\n",
    "- Plot all years on the same graph (with a common x-axis from January to December), with different colors for every year, so that we can compare how they evolve.\n",
    "- First, compute a **monthly** moving average across the entire period.\n",
    "- Then, loop over each year, extract the data from the dataframe computed at the previous step, and plot them. \n",
    "\n",
    "Hint: you will need the `F.dayofyear` function. Also, make sure that years that are close to each other have the same hue (you may use a colormap such as `matplotlib.pyplot.cm.rainbow`)."
   ]
  },
  {
   "cell_type": "code",
   "execution_count": null,
   "metadata": {},
   "outputs": [],
   "source": [
    "# Write your code here"
   ]
  },
  {
   "cell_type": "markdown",
   "metadata": {},
   "source": [
    "Yet another way to look at these data is by looking at the frequency of anomalies, where we define an anomaly as:\n",
    "\n",
    "> An anomaly is any daily temperature measurement that lies beyond 2 standard deviations of the mean temperature for the same 30-day calendar period in the past five years.\n",
    "\n",
    "For instance, a measurement $X$ on May 20, 2017 is considered an anomaly if it is either larger than $\\mu + n\\cdot\\sigma$ or smaller than $\\mu - n\\cdot\\sigma$, where $\\mu$ and $\\sigma$ are respectively the mean and the standard deviation of samples that fall in any of the following intervals: 15 days before to 15 days after May 20 of years 2016, 2015, 2014, 2013 and 2012. Test different numbers of $n$.\n",
    "\n",
    "Given the following definition of an anomaly, compute the anomaly frequency (i.e., the fraction of anomalous hours) of each month for the period 2015-2024."
   ]
  },
  {
   "cell_type": "code",
   "execution_count": null,
   "metadata": {},
   "outputs": [],
   "source": [
    "# Write your code here"
   ]
  },
  {
   "cell_type": "markdown",
   "metadata": {},
   "source": [
    "## Open Challenges with Meteosuisse data (3h30)\n",
    "\n",
    "In this section, you are left completely free and must explore one of these 5 open data challenges.\n",
    "\n",
    "Here are the four additional data challenges, aligned with the provided format:\n",
    "\n",
    "### Challenge 1: **Temperature Trend Analysis**\n",
    "\n",
    "- **Motivation**: Monitoring long-term temperature trends is key to understanding the effects of climate change, especially in mountainous regions where warming may occur faster than in valley bottoms.\n",
    "- **Task**: Analyze the long-term trend in temperature across stations at different altitudes, distinguishing between valley and high-altitude locations. Investigate whether higher altitude stations exhibit different temperature trends compared to valley stations.  \n",
    "- **Expected Outcome**: The goal is to determine if there is evidence of warming and if altitude affects the rate of change in temperature over the 14-year period. You should identify key patterns and trends in temperature variation over time. You should expect to observe a rise in average temperatures, with potential variations in the rate of warming between high-altitude and valley stations. Results may reveal that higher altitudes exhibit different warming patterns compared to valley floors.\n",
    "\n",
    "### Challenge 2: **Snow Depth and Precipitation Correlation**\n",
    "\n",
    "- **Motivation**: Understanding the relationship between snow depth and precipitation can provide insights into snowpack formation and potential water resources in mountainous regions. Snow depth also plays a critical role in assessing avalanche risk.\n",
    "- **Task**: Investigate the correlation between snow depth (`htoauths`, `hto000hs`) and precipitation (`rre150h0`) at different stations, focusing on both valley and high-altitude locations. Analyze seasonal variations and how snow depth responds to precipitation events over the 14-year period.\n",
    "- **Expected Outcome**: The goal is to identify patterns in how snow depth builds up in response to different levels of precipitation. You may find that snow depth at higher altitudes shows stronger correlations with precipitation compared to valley locations. The challenge will also help reveal any delayed responses in snow accumulation following significant precipitation events.\n",
    "\n",
    "### Challenge 3: **Precipitation Patterns by Wind Direction**\n",
    "\n",
    "- **Motivation**: Wind direction influences the distribution of precipitation across mountainous regions, particularly in valleys versus slopes. Understanding this relationship can help in forecasting weather patterns and managing water resources.\n",
    "- **Task**: Analyze how precipitation (`rre150h0`) is distributed depending on wind direction (`dkl010h0`) across different stations. Focus on comparing the frequency and amount of precipitation during south-bound versus north-bound wind events.\n",
    "- **Expected Outcome**: The analysis should reveal correlations between wind direction and precipitation patterns, showing whether certain wind directions consistently bring more precipitation. Expect to see patterns where specific directions (e.g., southerly winds) may correlate with higher precipitation amounts due to the orographic effect.\n",
    "\n",
    "### Challenge 4: **Wind Direction and Precipitation Patterns**\n",
    "\n",
    "- **Motivation**: Wind can play a significant role in weather patterns, affecting where and how precipitation occurs. Analyzing this relationship is crucial for understanding precipitation distribution in mountainous areas.\n",
    "- **Task**: Examine how wind direction (`dkl010h0`) influences precipitation patterns (`rre150h0`) across various stations. Focus on how wind direction may cause precipitation to differ between valley and high-altitude locations.\n",
    "- **Expected Outcome**: The goal is to understand whether specific wind directions lead to higher or lower precipitation at different altitudes. You may discover that certain wind directions are associated with heavy precipitation events in specific locations, potentially influencing local weather conditions.\n",
    "\n",
    "### Challenge 5: **Extreme Events Frequency Over Time**\n",
    "\n",
    "- **Motivation**: Identifying the frequency of extreme weather events like massive snowfalls, heatwaves, or heavy rainfall is critical for assessing climate change's impact and preparing for future extreme conditions.\n",
    "- **Task**: Define criteria for extreme weather events, such as significant snowfall (`hns000hs`), extreme heat (`tre200hx`), or heavy precipitation (`rre150hx`), and analyze how their frequency has evolved over the 14-year period. Compare results across high-altitude and valley stations.\n",
    "- **Expected Outcome**: The analysis should show whether there is an increase in the frequency of extreme weather events over time. You may observe a rise in heatwaves or more frequent heavy snowfall events at high altitudes, potentially pointing to climate-related shifts in weather patterns."
   ]
  },
  {
   "cell_type": "markdown",
   "metadata": {},
   "source": []
  }
 ],
 "metadata": {
  "kernelspec": {
   "display_name": "isc-mod302",
   "language": "python",
   "name": "isc-mod302"
  },
  "language_info": {
   "codemirror_mode": {
    "name": "ipython",
    "version": 3
   },
   "file_extension": ".py",
   "mimetype": "text/x-python",
   "name": "python",
   "nbconvert_exporter": "python",
   "pygments_lexer": "ipython3",
   "version": "3.10.15"
  }
 },
 "nbformat": 4,
 "nbformat_minor": 4
}
